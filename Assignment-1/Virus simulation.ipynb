{
 "cells": [
  {
   "cell_type": "code",
   "execution_count": 19,
   "metadata": {},
   "outputs": [
    {
     "data": {
      "image/png": "[encoded data removed]",
      "text/plain": [
       "<Figure size 432x288 with 2 Axes>"
      ]
     },
     "metadata": {
      "needs_background": "light"
     },
     "output_type": "display_data"
    },
    {
     "name": "stdout",
     "output_type": "stream",
     "text": [
      "Max addition in a single iteration: 1242\n"
     ]
    }
   ],
   "source": [
    "import numpy as np\n",
    "from numpy import random\n",
    "import matplotlib.pyplot as plt\n",
    "\n",
    "\n",
    "total_num=np.array([0])\n",
    "num_inc=np.array([0])\n",
    "arr=np.zeros((100,150), dtype=float)\n",
    "arr[50][75]=1\n",
    "\n",
    "def swap(arr, a, b, c, d):\n",
    "    temp=arr[a][b]\n",
    "    arr[a][b]=arr[c][d]\n",
    "    arr[c][d]=temp\n",
    "\n",
    "def modify(arr, a, b):\n",
    "    inc=0\n",
    "    ngbr1x = np.array([a-1,a-1,a-1,a,a,a+1,a+1,a+1])\n",
    "    ngbr1y = np.array([b-1,b,b+1,b-1,b+1,b-1,b,b+1])\n",
    "    ngbr2x = np.array([a-2,a-2,a-2,a-2,a-2,a-1,a-1,a,a,a+1,a+1,a+2,a+2,a+2,a+2,a+2])\n",
    "    ngbr2y = np.array([b-2,b-1,b,b+1,b+2,b-2,b+2,b-2,b+2,b-2,b+2,b-2,b-1,b,b+1,b+2])\n",
    "    ngbr1x[ngbr1x==100] = -1\n",
    "    ngbr1y[ngbr1y==150] = -1\n",
    "    ngbr2x[ngbr2x==-2] = -1\n",
    "    ngbr2x[ngbr2x==100] = -1\n",
    "    ngbr2x[ngbr2x==101] = -1\n",
    "    ngbr2y[ngbr2y==-2] =-1\n",
    "    ngbr2y[ngbr2y==150] =-1\n",
    "    ngbr2y[ngbr2y==151] =-1\n",
    "    r1 = random.randint(8, size=(2))\n",
    "    r2 = random.randint(16, size=(2))\n",
    "    for z in r1:\n",
    "        if ngbr1x[z]!=-1 and ngbr1y[z]!=-1 and arr[ngbr1x[z]][ngbr1y[z]]!=1:\n",
    "            arr[ngbr1x[z]][ngbr1y[z]]=1\n",
    "            inc+=1\n",
    "    for z in r2:\n",
    "        if ngbr2x[z]!=-1 and ngbr2y[z]!=-1 and arr[ngbr2x[z]][ngbr2y[z]]!=1:\n",
    "            arr[ngbr2x[z]][ngbr2y[z]]=1\n",
    "            inc+=1\n",
    "    return inc\n",
    "\n",
    "for k in range(150000):\n",
    "    count=0\n",
    "    addn=0\n",
    "    \n",
    "    for x in range(8):\n",
    "        d1=random.randint(100, size=(2))\n",
    "        d2=random.randint(150, size=(2))\n",
    "        swap(arr, d1[0], d2[0], d1[1], d2[1])\n",
    "\n",
    "    result = np.where(arr==1)\n",
    "    count = len(result[0])\n",
    "    \n",
    "    for x in range(count):\n",
    "        addn += modify(arr, result[0][x], result[1][x])\n",
    "            \n",
    "    \n",
    "    total_num = np.append (total_num, count)\n",
    "    num_inc = np.append (num_inc, addn)\n",
    "    \n",
    "    if count==15000 or count+addn ==15000:\n",
    "        break\n",
    "\n",
    "plt.subplot(2, 1, 1)\n",
    "plt.xlabel(\"Number of iterations\")\n",
    "plt.ylabel(\"Number of ones\")\n",
    "plt.plot(total_num)\n",
    "plt.subplot(2, 1, 2)\n",
    "plt.xlabel(\"Number of iterations\")\n",
    "plt.ylabel(\"Change in number of ones\")\n",
    "plt.plot(num_inc)\n",
    "plt.show()\n",
    "\n",
    "print(\"Max addition in a single iteration: %s\" %max(num_inc))\n"
   ]
  },
  {
   "cell_type": "code",
   "execution_count": null,
   "metadata": {},
   "outputs": [],
   "source": []
  }
 ],
 "metadata": {
  "kernelspec": {
   "display_name": "Python 3",
   "language": "python",
   "name": "python3"
  },
  "language_info": {
   "codemirror_mode": {
    "name": "ipython",
    "version": 3
   },
   "file_extension": ".py",
   "mimetype": "text/x-python",
   "name": "python",
   "nbconvert_exporter": "python",
   "pygments_lexer": "ipython3",
   "version": "3.8.5"
  }
 },
 "nbformat": 4,
 "nbformat_minor": 4
}
